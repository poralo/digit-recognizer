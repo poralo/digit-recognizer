{
  "nbformat": 4,
  "nbformat_minor": 0,
  "metadata": {
    "colab": {
      "name": "digit-recognizer.ipynb",
      "version": "0.3.2",
      "provenance": [],
      "collapsed_sections": [],
      "include_colab_link": true
    },
    "kernelspec": {
      "name": "python3",
      "display_name": "Python 3"
    }
  },
  "cells": [
    {
      "cell_type": "markdown",
      "metadata": {
        "id": "view-in-github",
        "colab_type": "text"
      },
      "source": [
        "<a href=\"https://colab.research.google.com/github/poralo/digit-recognizer/blob/master/digit_recognizer.ipynb\" target=\"_parent\"><img src=\"https://colab.research.google.com/assets/colab-badge.svg\" alt=\"Open In Colab\"/></a>"
      ]
    },
    {
      "cell_type": "markdown",
      "metadata": {
        "id": "cn-kfb4If4qp",
        "colab_type": "text"
      },
      "source": [
        "# Importations\n",
        "\n",
        "On commence par importer toutes les librairies nécesaires au bon fonctionnement du projet."
      ]
    },
    {
      "cell_type": "code",
      "metadata": {
        "id": "qaFsDvCxZ-qY",
        "colab_type": "code",
        "colab": {}
      },
      "source": [
        "# TensorFlow\n",
        "import tensorflow as tf\n",
        "# Helper libraries\n",
        "import numpy as np # linear algebra\n",
        "import pandas as pd # data processing, CSV file I/O (e.g. pd.read_csv)\n",
        "import matplotlib.pyplot as plt\n",
        "\n",
        "# This is a bit of magic to make matplotlib figures appear inline in the notebook\n",
        "# rather than in a new window.\n",
        "%matplotlib inline\n",
        "\n",
        "import os\n",
        "PATH = \"drive/My Drive/Colab Notebooks/digit-recognizer\""
      ],
      "execution_count": 0,
      "outputs": []
    },
    {
      "cell_type": "markdown",
      "metadata": {
        "id": "kyTXvqaxgN8I",
        "colab_type": "text"
      },
      "source": [
        "# Importations et modification des données"
      ]
    },
    {
      "cell_type": "code",
      "metadata": {
        "id": "zbePKSPze2cm",
        "colab_type": "code",
        "colab": {
          "base_uri": "https://localhost:8080/",
          "height": 51
        },
        "outputId": "1430cc0f-6818-4e49-80c5-e1ec16fad985"
      },
      "source": [
        "# Import Data\n",
        "train = pd.read_csv(PATH + \"/train.csv\")\n",
        "test = pd.read_csv(PATH + \"/test.csv\")\n",
        "print(\"Train size:{}\\nTest size:{}\".format(train.shape, test.shape))\n",
        "\n",
        "# Transform Train and Test into images\\labels.\n",
        "train_images = train.drop(['label'], axis=1).values.astype('float32') # all pixel values\n",
        "train_labels = train['label'].values.astype('int32') # only labels i.e targets digits\n",
        "x_test = test.values.astype('float32')\n",
        "\n",
        "train_images = train_images.reshape(train_images.shape[0], 28, 28) / 255.0\n",
        "x_test = x_test.reshape(x_test.shape[0], 28, 28) / 255.0\n",
        "\n",
        "from sklearn.model_selection import train_test_split\n",
        "train_images, test_images, train_labels, test_labels = train_test_split(train_images, train_labels, test_size = 0.3, random_state=42)"
      ],
      "execution_count": 28,
      "outputs": [
        {
          "output_type": "stream",
          "text": [
            "Train size:(42000, 785)\n",
            "Test size:(28000, 784)\n"
          ],
          "name": "stdout"
        }
      ]
    },
    {
      "cell_type": "markdown",
      "metadata": {
        "id": "anm7FIhvkBjI",
        "colab_type": "text"
      },
      "source": [
        "# Visualisation de quelques examples des données"
      ]
    },
    {
      "cell_type": "code",
      "metadata": {
        "id": "Ct9XPtXTkGof",
        "colab_type": "code",
        "colab": {
          "base_uri": "https://localhost:8080/",
          "height": 592
        },
        "outputId": "917e238c-b10a-42be-eb45-ad1dd0ae86d8"
      },
      "source": [
        "# classes for title\n",
        "# num classes for amount of examples\n",
        "classes = ['0', '1', '2', '3', '4', '5', '6', '7', '8', '9']\n",
        "\n",
        "plt.figure(figsize=(10,10))\n",
        "for i in range(25):\n",
        "    plt.subplot(5,5,i+1)\n",
        "    plt.xticks([])\n",
        "    plt.yticks([])\n",
        "    plt.grid(False)\n",
        "    plt.imshow(train_images[i], cmap=plt.cm.binary)\n",
        "    plt.xlabel(classes[train_labels[i]])\n",
        "plt.show()"
      ],
      "execution_count": 32,
      "outputs": [
        {
          "output_type": "display_data",
          "data": {
            "image/png": "[encoded data removed]",
            "text/plain": [
              "<Figure size 720x720 with 25 Axes>"
            ]
          },
          "metadata": {
            "tags": []
          }
        }
      ]
    },
    {
      "cell_type": "markdown",
      "metadata": {
        "id": "oRUuzXRZkmak",
        "colab_type": "text"
      },
      "source": [
        "# Mise en place du réseau de neurones"
      ]
    },
    {
      "cell_type": "code",
      "metadata": {
        "id": "NfllLPhIkrFX",
        "colab_type": "code",
        "colab": {}
      },
      "source": [
        "model = tf.keras.Sequential([\n",
        "    tf.keras.layers.Flatten(input_shape=(28, 28)),\n",
        "    tf.keras.layers.Dense(128, activation=tf.nn.relu),\n",
        "    tf.keras.layers.Dense(10, activation=tf.nn.softmax)\n",
        "])\n",
        "\n",
        "model.compile(optimizer='adam',\n",
        "              loss='sparse_categorical_crossentropy',\n",
        "              metrics=['accuracy'])"
      ],
      "execution_count": 0,
      "outputs": []
    },
    {
      "cell_type": "markdown",
      "metadata": {
        "id": "CfI0Y5KmlLyA",
        "colab_type": "text"
      },
      "source": [
        "## Entrainement du model"
      ]
    },
    {
      "cell_type": "code",
      "metadata": {
        "id": "KdF6QrYSlPRh",
        "colab_type": "code",
        "colab": {
          "base_uri": "https://localhost:8080/",
          "height": 1000
        },
        "outputId": "41fc4f4b-79a9-43da-cc88-73601419d567"
      },
      "source": [
        "model.fit(train_images, train_labels, epochs=50)"
      ],
      "execution_count": 37,
      "outputs": [
        {
          "output_type": "stream",
          "text": [
            "Epoch 1/50\n",
            "29400/29400 [==============================] - 2s 64us/sample - loss: 0.0492 - acc: 0.9853\n",
            "Epoch 2/50\n",
            "29400/29400 [==============================] - 2s 64us/sample - loss: 0.0385 - acc: 0.9888\n",
            "Epoch 3/50\n",
            "29400/29400 [==============================] - 2s 65us/sample - loss: 0.0309 - acc: 0.9908\n",
            "Epoch 4/50\n",
            "29400/29400 [==============================] - 2s 65us/sample - loss: 0.0238 - acc: 0.9934\n",
            "Epoch 5/50\n",
            "29400/29400 [==============================] - 2s 66us/sample - loss: 0.0199 - acc: 0.9946\n",
            "Epoch 6/50\n",
            "29400/29400 [==============================] - 2s 65us/sample - loss: 0.0135 - acc: 0.9966\n",
            "Epoch 7/50\n",
            "29400/29400 [==============================] - 2s 63us/sample - loss: 0.0136 - acc: 0.9963\n",
            "Epoch 8/50\n",
            "29400/29400 [==============================] - 2s 64us/sample - loss: 0.0107 - acc: 0.9974\n",
            "Epoch 9/50\n",
            "29400/29400 [==============================] - 2s 65us/sample - loss: 0.0108 - acc: 0.9970\n",
            "Epoch 10/50\n",
            "29400/29400 [==============================] - 2s 63us/sample - loss: 0.0084 - acc: 0.9979\n",
            "Epoch 11/50\n",
            "29400/29400 [==============================] - 2s 64us/sample - loss: 0.0047 - acc: 0.9990\n",
            "Epoch 12/50\n",
            "29400/29400 [==============================] - 2s 64us/sample - loss: 0.0079 - acc: 0.9975\n",
            "Epoch 13/50\n",
            "29400/29400 [==============================] - 2s 64us/sample - loss: 0.0052 - acc: 0.9987\n",
            "Epoch 14/50\n",
            "29400/29400 [==============================] - 2s 64us/sample - loss: 0.0043 - acc: 0.9991\n",
            "Epoch 15/50\n",
            "29400/29400 [==============================] - 2s 65us/sample - loss: 0.0038 - acc: 0.9991\n",
            "Epoch 16/50\n",
            "29400/29400 [==============================] - 2s 63us/sample - loss: 0.0056 - acc: 0.9985\n",
            "Epoch 17/50\n",
            "29400/29400 [==============================] - 2s 63us/sample - loss: 0.0057 - acc: 0.9984\n",
            "Epoch 18/50\n",
            "29400/29400 [==============================] - 2s 63us/sample - loss: 0.0033 - acc: 0.9990\n",
            "Epoch 19/50\n",
            "29400/29400 [==============================] - 2s 64us/sample - loss: 0.0035 - acc: 0.9990\n",
            "Epoch 20/50\n",
            "29400/29400 [==============================] - 2s 65us/sample - loss: 0.0054 - acc: 0.9985\n",
            "Epoch 21/50\n",
            "29400/29400 [==============================] - 2s 65us/sample - loss: 0.0025 - acc: 0.9994\n",
            "Epoch 22/50\n",
            "29400/29400 [==============================] - 2s 65us/sample - loss: 6.9311e-04 - acc: 0.9999\n",
            "Epoch 23/50\n",
            "29400/29400 [==============================] - 2s 62us/sample - loss: 2.2264e-04 - acc: 1.0000\n",
            "Epoch 24/50\n",
            "29400/29400 [==============================] - 2s 64us/sample - loss: 1.5438e-04 - acc: 1.0000\n",
            "Epoch 25/50\n",
            "29400/29400 [==============================] - 2s 63us/sample - loss: 1.7842e-04 - acc: 1.0000\n",
            "Epoch 26/50\n",
            "29400/29400 [==============================] - 2s 63us/sample - loss: 0.0166 - acc: 0.9941\n",
            "Epoch 27/50\n",
            "29400/29400 [==============================] - 2s 63us/sample - loss: 8.0724e-04 - acc: 0.9999\n",
            "Epoch 28/50\n",
            "29400/29400 [==============================] - 2s 63us/sample - loss: 2.8329e-04 - acc: 1.0000\n",
            "Epoch 29/50\n",
            "29400/29400 [==============================] - 2s 62us/sample - loss: 1.4531e-04 - acc: 1.0000\n",
            "Epoch 30/50\n",
            "29400/29400 [==============================] - 2s 64us/sample - loss: 1.0548e-04 - acc: 1.0000\n",
            "Epoch 31/50\n",
            "29400/29400 [==============================] - 2s 64us/sample - loss: 8.3672e-05 - acc: 1.0000\n",
            "Epoch 32/50\n",
            "29400/29400 [==============================] - 2s 64us/sample - loss: 6.6419e-05 - acc: 1.0000\n",
            "Epoch 33/50\n",
            "29400/29400 [==============================] - 2s 63us/sample - loss: 5.6720e-05 - acc: 1.0000\n",
            "Epoch 34/50\n",
            "29400/29400 [==============================] - 2s 63us/sample - loss: 0.0130 - acc: 0.9960\n",
            "Epoch 35/50\n",
            "29400/29400 [==============================] - 2s 63us/sample - loss: 0.0042 - acc: 0.9986\n",
            "Epoch 36/50\n",
            "29400/29400 [==============================] - 2s 63us/sample - loss: 3.5395e-04 - acc: 1.0000\n",
            "Epoch 37/50\n",
            "29400/29400 [==============================] - 2s 64us/sample - loss: 1.1574e-04 - acc: 1.0000\n",
            "Epoch 38/50\n",
            "29400/29400 [==============================] - 2s 63us/sample - loss: 7.6594e-05 - acc: 1.0000\n",
            "Epoch 39/50\n",
            "29400/29400 [==============================] - 2s 62us/sample - loss: 5.8554e-05 - acc: 1.0000\n",
            "Epoch 40/50\n",
            "29400/29400 [==============================] - 2s 63us/sample - loss: 4.6567e-05 - acc: 1.0000\n",
            "Epoch 41/50\n",
            "29400/29400 [==============================] - 2s 62us/sample - loss: 3.7686e-05 - acc: 1.0000\n",
            "Epoch 42/50\n",
            "29400/29400 [==============================] - 2s 63us/sample - loss: 3.1355e-05 - acc: 1.0000\n",
            "Epoch 43/50\n",
            "29400/29400 [==============================] - 2s 64us/sample - loss: 0.0127 - acc: 0.9966\n",
            "Epoch 44/50\n",
            "29400/29400 [==============================] - 2s 63us/sample - loss: 0.0043 - acc: 0.9984\n",
            "Epoch 45/50\n",
            "29400/29400 [==============================] - 2s 64us/sample - loss: 4.3444e-04 - acc: 1.0000\n",
            "Epoch 46/50\n",
            "29400/29400 [==============================] - 2s 63us/sample - loss: 9.1969e-05 - acc: 1.0000\n",
            "Epoch 47/50\n",
            "29400/29400 [==============================] - 2s 63us/sample - loss: 6.3405e-05 - acc: 1.0000\n",
            "Epoch 48/50\n",
            "29400/29400 [==============================] - 2s 63us/sample - loss: 4.6631e-05 - acc: 1.0000\n",
            "Epoch 49/50\n",
            "29400/29400 [==============================] - 2s 65us/sample - loss: 3.5987e-05 - acc: 1.0000\n",
            "Epoch 50/50\n",
            "29400/29400 [==============================] - 2s 65us/sample - loss: 2.8810e-05 - acc: 1.0000\n"
          ],
          "name": "stdout"
        },
        {
          "output_type": "execute_result",
          "data": {
            "text/plain": [
              "<tensorflow.python.keras.callbacks.History at 0x7f9c2792aa90>"
            ]
          },
          "metadata": {
            "tags": []
          },
          "execution_count": 37
        }
      ]
    },
    {
      "cell_type": "code",
      "metadata": {
        "id": "DcFvgInMmEkK",
        "colab_type": "code",
        "colab": {
          "base_uri": "https://localhost:8080/",
          "height": 51
        },
        "outputId": "797f15ba-559f-49db-9f4e-83d0e0c94c1f"
      },
      "source": [
        "test_loss, test_acc = model.evaluate(test_images, test_labels)\n",
        "\n",
        "print('Test accuracy:', test_acc)"
      ],
      "execution_count": 38,
      "outputs": [
        {
          "output_type": "stream",
          "text": [
            "12600/12600 [==============================] - 0s 32us/sample - loss: 0.1594 - acc: 0.9746\n",
            "Test accuracy: 0.9746032\n"
          ],
          "name": "stdout"
        }
      ]
    },
    {
      "cell_type": "code",
      "metadata": {
        "id": "4lyHCNk1mNXu",
        "colab_type": "code",
        "colab": {}
      },
      "source": [
        "predictions = model.predict(x_test)"
      ],
      "execution_count": 0,
      "outputs": []
    },
    {
      "cell_type": "code",
      "metadata": {
        "id": "Yqfnx4PFmfsN",
        "colab_type": "code",
        "colab": {}
      },
      "source": [
        "def plot_image(i, predictions_array, true_label, img):\n",
        "  predictions_array, true_label, img = predictions_array[i], true_label[i], img[i]\n",
        "  plt.grid(False)\n",
        "  plt.xticks([])\n",
        "  plt.yticks([])\n",
        "  \n",
        "  plt.imshow(img, cmap=plt.cm.binary)\n",
        "  \n",
        "  predicted_label = np.argmax(predictions_array)\n",
        "  if predicted_label == true_label:\n",
        "    color = 'blue'\n",
        "  else:\n",
        "    color = 'red'\n",
        "  \n",
        "  plt.xlabel(\"{} {:2.0f}% ({})\".format(classes[predicted_label],\n",
        "                                100*np.max(predictions_array),\n",
        "                                classes[true_label]),\n",
        "                                color=color)\n",
        "\n",
        "def plot_value_array(i, predictions_array, true_label):\n",
        "  predictions_array, true_label = predictions_array[i], true_label[i]\n",
        "  plt.grid(False)\n",
        "  plt.xticks([])\n",
        "  plt.yticks([])\n",
        "  thisplot = plt.bar(range(10), predictions_array, color=\"#777777\")\n",
        "  plt.ylim([0, 1])\n",
        "  predicted_label = np.argmax(predictions_array)\n",
        "  \n",
        "  thisplot[predicted_label].set_color('red')\n",
        "  thisplot[true_label].set_color('blue')"
      ],
      "execution_count": 0,
      "outputs": []
    },
    {
      "cell_type": "code",
      "metadata": {
        "id": "qYqbQ-zBmkMM",
        "colab_type": "code",
        "colab": {
          "base_uri": "https://localhost:8080/",
          "height": 206
        },
        "outputId": "7c5f0697-3fa7-4fd4-8431-0cd368096f5a"
      },
      "source": [
        "i = 98\n",
        "plt.figure(figsize=(6,3))\n",
        "plt.subplot(1,2,1)\n",
        "plot_image(i, predictions, test_labels, test_images)\n",
        "plt.subplot(1,2,2)\n",
        "plot_value_array(i, predictions,  test_labels)\n",
        "plt.show()"
      ],
      "execution_count": 50,
      "outputs": [
        {
          "output_type": "display_data",
          "data": {
            "image/png": "[encoded data removed]",
            "text/plain": [
              "<Figure size 432x216 with 2 Axes>"
            ]
          },
          "metadata": {
            "tags": []
          }
        }
      ]
    }
  ]
}